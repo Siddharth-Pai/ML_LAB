{
 "cells": [
  {
   "cell_type": "code",
   "execution_count": 38,
   "id": "87bb755b",
   "metadata": {},
   "outputs": [],
   "source": [
    "import csv \n",
    "import pandas as pd\n",
    "import numpy as np"
   ]
  },
  {
   "cell_type": "code",
   "execution_count": 8,
   "id": "a550648b",
   "metadata": {},
   "outputs": [
    {
     "name": "stdout",
     "output_type": "stream",
     "text": [
      "['S.NO', 'name ', 'age']\n",
      "['1', 'sid', '20']\n",
      "['2', 'ronan', '19']\n",
      "['3', 'abhiram', '21']\n",
      "['4', 'shreyas', '24']\n",
      "['5', 'aman', '23']\n"
     ]
    }
   ],
   "source": [
    "with open ('/home/AIML_Student/Documents/210962002/age.csv','r') as f:\n",
    "    read=csv.reader(f)\n",
    "    for row in read:\n",
    "        print(row)\n"
   ]
  },
  {
   "cell_type": "code",
   "execution_count": 12,
   "id": "d6b7525f",
   "metadata": {},
   "outputs": [
    {
     "name": "stdout",
     "output_type": "stream",
     "text": [
      "   S.NO    name   age\n",
      "0     1      sid   20\n",
      "1     2    ronan   19\n",
      "2     3  abhiram   21\n",
      "3     4  shreyas   24\n",
      "4     5     aman   23\n"
     ]
    }
   ],
   "source": [
    "reader=pd.read_csv('/home/AIML_Student/Documents/210962002/age.csv')\n",
    "print(reader)"
   ]
  },
  {
   "cell_type": "code",
   "execution_count": 15,
   "id": "be88491a",
   "metadata": {},
   "outputs": [
    {
     "name": "stdout",
     "output_type": "stream",
     "text": [
      "['sno', 'name', 'age']\n",
      "['1', 'SID', '20']\n",
      "['2', 'SHREYAS', '19']\n",
      "['3', 'ABHIRAM', '25']\n",
      "['4', 'AMAN', '21']\n",
      "['5', 'RONAN', '28']\n"
     ]
    }
   ],
   "source": [
    "with open ('/home/AIML_Student/Documents/210962002/AGE1.csv','r') as f:\n",
    "    read=csv.reader(f)\n",
    "    for row in read:\n",
    "        print(row)\n"
   ]
  },
  {
   "cell_type": "code",
   "execution_count": 19,
   "id": "cd840bfa",
   "metadata": {},
   "outputs": [
    {
     "name": "stdout",
     "output_type": "stream",
     "text": [
      "   sno     name  age\n",
      "0    1      SID   20\n",
      "1    2  SHREYAS   19\n",
      "2    3  ABHIRAM   25\n",
      "3    4     AMAN   21\n",
      "4    5    RONAN   28\n"
     ]
    }
   ],
   "source": [
    "textRead=pd.read_csv('/home/AIML_Student/Documents/210962002/AGE1.csv')\n",
    "print(textRead)"
   ]
  },
  {
   "cell_type": "code",
   "execution_count": 21,
   "id": "9135c275",
   "metadata": {},
   "outputs": [
    {
     "name": "stdout",
     "output_type": "stream",
     "text": [
      "{'sno': '1', 'name': 'SID', 'age': '20'}\n",
      "{'sno': '2', 'name': 'SHREYAS', 'age': '19'}\n",
      "{'sno': '3', 'name': 'ABHIRAM', 'age': '25'}\n",
      "{'sno': '4', 'name': 'AMAN', 'age': '21'}\n",
      "{'sno': '5', 'name': 'RONAN', 'age': '28'}\n"
     ]
    }
   ],
   "source": [
    "with open ('/home/AIML_Student/Documents/210962002/AGE1.csv','r') as f:\n",
    "    read=csv.DictReader(f)\n",
    "    for row in read:\n",
    "        print(row)\n"
   ]
  },
  {
   "cell_type": "code",
   "execution_count": 23,
   "id": "99d9574d",
   "metadata": {},
   "outputs": [],
   "source": [
    "with open ('/home/AIML_Student/Documents/210962002/write.csv','w') as file:\n",
    "    write=csv.writer(file,delimiter=',')\n",
    "    write.writerow(['programing Langyuage','designed by','appeaered','Extension'])\n",
    "    write.writerow(['Python','Guido van russo','1991','.py'])\n",
    "    write.writerow(['java','james gosling','1995','.java'])\n",
    "    write.writerow(['C++','Bjarne','1985','.cpp'])\n",
    "    "
   ]
  },
  {
   "cell_type": "code",
   "execution_count": 26,
   "id": "01d5ef02",
   "metadata": {},
   "outputs": [
    {
     "name": "stdout",
     "output_type": "stream",
     "text": [
      "  programing Langyuage      designed by appeaered Extension\n",
      "0               Python  Guido van russo      1991       .py\n",
      "1                 java    james gosling      1995     .java\n",
      "2                  C++           Bjarne      1985      .cpp\n"
     ]
    }
   ],
   "source": [
    "from pandas import DataFrame\n",
    "c={'programing Langyuage':['Python','java','C++'],\n",
    "   'designed by':['Guido van russo','james gosling','Bjarne'],\n",
    "   'appeaered':['1991','1995','1985'],\n",
    "   'Extension':['.py','.java','.cpp']}\n",
    "df=DataFrame(c,columns=['programing Langyuage','designed by','appeaered','Extension'])\n",
    "export_csv=df.to_csv(r'/home/AIML_Student/Documents/210962002/data1.csv',index=None)\n",
    "print(df)"
   ]
  },
  {
   "cell_type": "code",
   "execution_count": 34,
   "id": "d8e1bae9",
   "metadata": {},
   "outputs": [],
   "source": [
    "import scipy\n",
    "import matplotlib\n",
    "import seaborn\n",
    "import sklearn\n",
    "#___"
   ]
  },
  {
   "cell_type": "code",
   "execution_count": 40,
   "id": "60af418e",
   "metadata": {},
   "outputs": [
    {
     "name": "stdout",
     "output_type": "stream",
     "text": [
      "[[1 2 3]\n",
      " [4 5 6]\n",
      " [7 8 9]]\n"
     ]
    }
   ],
   "source": [
    "a=np.array([1,2,3,4,5,6,7,8,9])\n",
    "r=a.reshape(3,3)\n",
    "print(r)\n"
   ]
  },
  {
   "cell_type": "code",
   "execution_count": 50,
   "id": "28b9041e",
   "metadata": {},
   "outputs": [
    {
     "name": "stdout",
     "output_type": "stream",
     "text": [
      "[ 0 -1  2 -1  4 -1  6 -1  8 -1]\n"
     ]
    }
   ],
   "source": [
    "a=np.array([0,1,2,3,4,5,6,7,8,9])\n",
    "for i in range(len(a)):\n",
    "    if a[i]%2!=0:\n",
    "        a[i]=-1\n",
    "    if a[i]==1:\n",
    "        a[i]=-1\n",
    "        \n",
    "        \n",
    "print(a)"
   ]
  },
  {
   "cell_type": "code",
   "execution_count": 55,
   "id": "f4203923",
   "metadata": {},
   "outputs": [
    {
     "name": "stdout",
     "output_type": "stream",
     "text": [
      "greater x than y (array([1, 2, 4, 5, 6, 7, 8, 9]),)\n",
      "equal x and y (array([0]),)\n"
     ]
    }
   ],
   "source": [
    "x = np.array([21, 64, 86, 22, 74, 55, 81, 79, 90, 89]) \n",
    "y = np.array([21, 7, 3, 45, 10, 29, 55, 4, 37, 18])\n",
    "g=np.where(x>y)\n",
    "e=np.where(x==y)\n",
    "print(\"greater x than y\",g)\n",
    "print(\"equal x and y\",e)\n"
   ]
  },
  {
   "cell_type": "code",
   "execution_count": 64,
   "id": "e00419cb",
   "metadata": {},
   "outputs": [
    {
     "name": "stdout",
     "output_type": "stream",
     "text": [
      "[[ 0  1  2  3]\n",
      " [20 21 22 23]\n",
      " [40 41 42 43]\n",
      " [60 61 62 63]\n",
      " [80 81 82 83]]\n"
     ]
    }
   ],
   "source": [
    "q=np.arange(100).reshape(5,-1)\n",
    "print(q[:,:4])"
   ]
  }
 ],
 "metadata": {
  "kernelspec": {
   "display_name": "Python 3 (ipykernel)",
   "language": "python",
   "name": "python3"
  },
  "language_info": {
   "codemirror_mode": {
    "name": "ipython",
    "version": 3
   },
   "file_extension": ".py",
   "mimetype": "text/x-python",
   "name": "python",
   "nbconvert_exporter": "python",
   "pygments_lexer": "ipython3",
   "version": "3.10.12"
  }
 },
 "nbformat": 4,
 "nbformat_minor": 5
}
