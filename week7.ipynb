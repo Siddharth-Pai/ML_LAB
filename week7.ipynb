{
 "cells": [
  {
   "cell_type": "code",
   "execution_count": 17,
   "id": "e552f16a",
   "metadata": {},
   "outputs": [],
   "source": [
    "import numpy as np\n",
    "import pandas as pd\n",
    "import matplotlib.pyplot as plt\n",
    "from sklearn.model_selection import train_test_split\n",
    "from math import exp"
   ]
  },
  {
   "cell_type": "code",
   "execution_count": 18,
   "id": "f16b6efe",
   "metadata": {},
   "outputs": [
    {
     "data": {
      "text/html": [
       "<div>\n",
       "<style scoped>\n",
       "    .dataframe tbody tr th:only-of-type {\n",
       "        vertical-align: middle;\n",
       "    }\n",
       "\n",
       "    .dataframe tbody tr th {\n",
       "        vertical-align: top;\n",
       "    }\n",
       "\n",
       "    .dataframe thead th {\n",
       "        text-align: right;\n",
       "    }\n",
       "</style>\n",
       "<table border=\"1\" class=\"dataframe\">\n",
       "  <thead>\n",
       "    <tr style=\"text-align: right;\">\n",
       "      <th></th>\n",
       "      <th>X1</th>\n",
       "      <th>X2</th>\n",
       "      <th>Y</th>\n",
       "    </tr>\n",
       "  </thead>\n",
       "  <tbody>\n",
       "    <tr>\n",
       "      <th>0</th>\n",
       "      <td>2.781084</td>\n",
       "      <td>2.550537</td>\n",
       "      <td>0</td>\n",
       "    </tr>\n",
       "    <tr>\n",
       "      <th>1</th>\n",
       "      <td>1.465489</td>\n",
       "      <td>2.362125</td>\n",
       "      <td>0</td>\n",
       "    </tr>\n",
       "    <tr>\n",
       "      <th>2</th>\n",
       "      <td>3.396562</td>\n",
       "      <td>4.400294</td>\n",
       "      <td>0</td>\n",
       "    </tr>\n",
       "    <tr>\n",
       "      <th>3</th>\n",
       "      <td>1.388070</td>\n",
       "      <td>1.850220</td>\n",
       "      <td>0</td>\n",
       "    </tr>\n",
       "    <tr>\n",
       "      <th>4</th>\n",
       "      <td>3.064072</td>\n",
       "      <td>3.005306</td>\n",
       "      <td>0</td>\n",
       "    </tr>\n",
       "    <tr>\n",
       "      <th>5</th>\n",
       "      <td>7.627531</td>\n",
       "      <td>2.759262</td>\n",
       "      <td>1</td>\n",
       "    </tr>\n",
       "    <tr>\n",
       "      <th>6</th>\n",
       "      <td>5.332441</td>\n",
       "      <td>2.088627</td>\n",
       "      <td>1</td>\n",
       "    </tr>\n",
       "    <tr>\n",
       "      <th>7</th>\n",
       "      <td>6.922597</td>\n",
       "      <td>1.771064</td>\n",
       "      <td>1</td>\n",
       "    </tr>\n",
       "    <tr>\n",
       "      <th>8</th>\n",
       "      <td>8.675419</td>\n",
       "      <td>-0.242070</td>\n",
       "      <td>1</td>\n",
       "    </tr>\n",
       "    <tr>\n",
       "      <th>9</th>\n",
       "      <td>7.673756</td>\n",
       "      <td>3.508563</td>\n",
       "      <td>1</td>\n",
       "    </tr>\n",
       "  </tbody>\n",
       "</table>\n",
       "</div>"
      ],
      "text/plain": [
       "         X1        X2  Y\n",
       "0  2.781084  2.550537  0\n",
       "1  1.465489  2.362125  0\n",
       "2  3.396562  4.400294  0\n",
       "3  1.388070  1.850220  0\n",
       "4  3.064072  3.005306  0\n",
       "5  7.627531  2.759262  1\n",
       "6  5.332441  2.088627  1\n",
       "7  6.922597  1.771064  1\n",
       "8  8.675419 -0.242070  1\n",
       "9  7.673756  3.508563  1"
      ]
     },
     "execution_count": 18,
     "metadata": {},
     "output_type": "execute_result"
    }
   ],
   "source": [
    "df=pd.read_csv('/home/AIML_Student/Documents/210962002/lr_SGD.csv')\n",
    "df"
   ]
  },
  {
   "cell_type": "code",
   "execution_count": 24,
   "id": "b0b81fd4",
   "metadata": {},
   "outputs": [
    {
     "name": "stdout",
     "output_type": "stream",
     "text": [
      "After epoch 5 : b0 = -0.006231094865398651 b1 = 0.10676709833993013 b2 = -0.03845298446175096  Error =  0.34960710432735354\n",
      "After epoch 10 : b0 = -0.020724475791660216 b1 = 0.1546201361132624 b2 = -0.09222316648286195  Error =  0.3113024777143045\n",
      "After epoch 15 : b0 = -0.036660734755040364 b1 = 0.18610719084906713 b2 = -0.1465912233586454  Error =  0.3034663483685278\n",
      "After epoch 20 : b0 = -0.05225219023657796 b1 = 0.21244297858108752 b2 = -0.19780024883604075  Error =  0.3019476060987166\n",
      "After epoch 25 : b0 = -0.06705436558514496 b1 = 0.23667506623723406 b2 = -0.24511855372236993  Error =  0.3008104610438481\n",
      "After epoch 30 : b0 = -0.08101062703855536 b1 = 0.2596331013746516 b2 = -0.2887187277218803  Error =  0.29876783483044655\n",
      "After epoch 35 : b0 = -0.09417373562446871 b1 = 0.2815338176419728 b2 = -0.3290052995281894  Error =  0.295789283093181\n",
      "After epoch 40 : b0 = -0.10661929132581059 b1 = 0.30244035923366713 b2 = -0.3663956247177904  Error =  0.29212197312116694\n",
      "After epoch 45 : b0 = -0.11842019399144446 b1 = 0.3223890348590913 b2 = -0.4012582300027497  Error =  0.2880170454693839\n",
      "After epoch 50 : b0 = -0.12964053990985444 b1 = 0.34141935087394765 b2 = -0.433903683493783  Error =  0.2836689631792839\n"
     ]
    }
   ],
   "source": [
    "\n",
    "x1 = df.iloc[:,:-2]\n",
    "x2 = df.iloc[:,-2:-1]\n",
    "y = df.iloc[:,-1]\n",
    "npx1 = np.array(x1)\n",
    "npx2 = np.array(x2)\n",
    "npy = np.array(y)\n",
    "\n",
    "b0,b1,b2 = 0,0,0\n",
    "learning_rate = 0.01 \n",
    "\n",
    "def sigmoid(z):\n",
    "    sig = 1/(1+np.exp(-z))\n",
    "    return sig\n",
    "\n",
    "epochs = 50\n",
    "accuracy,b0s,b1s,b2s,errors = [],[],[],[],[]\n",
    "for epoch in range(0,epochs):\n",
    "    correct = 0\n",
    "    for i in range(len(x1)):\n",
    "        output = b0 + b1*npx1[i] + b2*npx2[i]\n",
    "        pred = sigmoid(output)\n",
    "        diff = npy[i] - pred\n",
    "        b0 = b0 + learning_rate * (diff) * pred * (1-pred)\n",
    "        b1 = b1 + learning_rate * (diff) * pred * (1-pred) * npx1[i]\n",
    "        b2 = b2 + learning_rate * (diff) * pred * (1-pred) * npx2[i]\n",
    "        b0,b1,b2 = b0[0],b1[0],b2[0]\n",
    "        if (pred<0.5 and npy[i] == 0) or (pred>=0.5 and npy[i] == 1):\n",
    "            correct += 1\n",
    "    accuracy.append(correct/len(npx1)) \n",
    "    b0s.append(b0)\n",
    "    b1s.append(b1)\n",
    "    b2s.append(b2)\n",
    "    errors.append(diff)\n",
    "    if (epoch+1)%5 == 0:\n",
    "        print(\"After epoch\",epoch+1,\": b0 =\",b0,\"b1 =\",b1,\"b2 =\",b2,\" Error = \",diff[0])\n",
    "\n"
   ]
  },
  {
   "cell_type": "code",
   "execution_count": 23,
   "id": "974af6f4",
   "metadata": {},
   "outputs": [
    {
     "name": "stdout",
     "output_type": "stream",
     "text": [
      "Equation: y = -0.12964053990985444 + 0.34141935087394765 *x1 -0.433903683493783 *x2\n",
      "Predicted values:  [0, 0, 0, 0, 0, 1, 1, 1, 1, 1]\n"
     ]
    },
    {
     "data": {
      "image/png": "[encoded data removed]",
      "text/plain": [
       "<Figure size 720x216 with 3 Axes>"
      ]
     },
     "metadata": {
      "needs_background": "light"
     },
     "output_type": "display_data"
    }
   ],
   "source": [
    "plt.figure(figsize = (10,3))\n",
    "plt.subplot(1,3,1)\n",
    "plt.plot(b1s,errors),plt.title(\"B1 vs Error\")\n",
    "plt.subplot(1,3,2)\n",
    "plt.plot(b2s,errors),plt.title(\"B2 vs Error\")\n",
    "\n",
    "plt.subplot(1,3,3)\n",
    "plt.plot(np.arange(50),accuracy)\n",
    "plt.title(\"Accuracy vs Epoch\")\n",
    "print(\"Equation: y =\",b0,\"+\",b1,\"*x1\",b2,\"*x2\")\n",
    "npy = b0 + b1*npx1 + b2*npx2\n",
    "output = sigmoid(npy)\n",
    "func = lambda x: 0 if x<0.5 else 1\n",
    "prediction = list(map(func,output))\n",
    "print(\"Predicted values: \",prediction)"
   ]
  },
  {
   "cell_type": "code",
   "execution_count": null,
   "id": "fbe59de5",
   "metadata": {},
   "outputs": [],
   "source": []
  },
  {
   "cell_type": "code",
   "execution_count": 26,
   "id": "a70b0737",
   "metadata": {},
   "outputs": [
    {
     "name": "stdout",
     "output_type": "stream",
     "text": [
      "[[ 1.18383416 -0.35803503]] [-4.55163352]\n"
     ]
    }
   ],
   "source": [
    "#Using scikit-learn model\n",
    "from sklearn.linear_model import LogisticRegression\n",
    "X = df.iloc[:,:-1]\n",
    "y = df.iloc[:,-1]\n",
    "clf = LogisticRegression(random_state=0).fit(X, y)\n",
    "print(clf.coef_,clf.intercept_)"
   ]
  },
  {
   "cell_type": "code",
   "execution_count": 27,
   "id": "3caa4529",
   "metadata": {},
   "outputs": [
    {
     "name": "stdout",
     "output_type": "stream",
     "text": [
      "After epoch 5 : b0 = -0.17873995656892583 b1 = 0.25761475418286234  Error =  0.1581535228967712\n",
      "After epoch 10 : b0 = -0.3887231085829156 b1 = 0.2882287689335063  Error =  0.15410350275746554\n",
      "After epoch 15 : b0 = -0.586371200141669 b1 = 0.31757036267817335  Error =  0.1497750700568412\n",
      "After epoch 20 : b0 = -0.7712551390839545 b1 = 0.34551132417366837  Error =  0.14528472330820497\n",
      "After epoch 25 : b0 = -0.9435886116133605 b1 = 0.3719981416877726  Error =  0.14074718888796578\n",
      "After epoch 30 : b0 = -1.1039879542051059 b1 = 0.39705228055245545  Error =  0.13623942724208982\n",
      "After epoch 35 : b0 = -1.2532873277629089 b1 = 0.42073975484767606  Error =  0.13181187384180537\n",
      "After epoch 40 : b0 = -1.3924091792092128 b1 = 0.44314916333958426  Error =  0.1274970915478949\n",
      "After epoch 45 : b0 = -1.5222817623977043 b1 = 0.4643775120949584  Error =  0.12331559613007259\n",
      "After epoch 50 : b0 = -1.6437913918166027 b1 = 0.48452181890269636  Error =  0.11927962789465463\n",
      "Equation: y = -1.6437913918166027 + 0.48452181890269636 *x\n",
      "[0, 0, 1, 0, 0, 1, 1, 1, 1, 1]\n"
     ]
    },
    {
     "data": {
      "image/png": "[encoded data removed]",
      "text/plain": [
       "<Figure size 720x216 with 3 Axes>"
      ]
     },
     "metadata": {
      "needs_background": "light"
     },
     "output_type": "display_data"
    }
   ],
   "source": [
    "#2\n",
    "import pandas as pd\n",
    "import numpy as np\n",
    "import matplotlib.pyplot as plt\n",
    "\n",
    "# tab = pd.read_csv(\"lrsgd.csv\")\n",
    "x = df.iloc[:,:-2]\n",
    "y = df.iloc[:,-1]\n",
    "npx = np.array(x)\n",
    "npy = np.array(y)\n",
    "\n",
    "b0,b1 = 0,0\n",
    "learning_rate = 0.1 \n",
    "\n",
    "def sigmoid(z):\n",
    "    sig = 1/(1+np.exp(-z))\n",
    "    return sig\n",
    "\n",
    "epochs = 50\n",
    "accuracy,b0s,b1s,errors = [],[],[],[]\n",
    "for epoch in range(0,epochs):\n",
    "    correct = 0\n",
    "    for i in range(len(x1)):\n",
    "        output = b0 + b1*npx[i] \n",
    "        pred = sigmoid(output)\n",
    "        diff = npy[i] - pred\n",
    "        b0 = b0 + learning_rate * (diff) * pred * (1-pred)\n",
    "        b1 = b1 + learning_rate * (diff) * pred * (1-pred) * npx[i]\n",
    "        b0,b1 = b0[0],b1[0]\n",
    "        if (pred<0.5 and npy[i] == 0) or (pred>=0.5 and npy[i] == 1):\n",
    "            correct += 1\n",
    "    accuracy.append(correct/len(npx1)) \n",
    "    b0s.append(b0)\n",
    "    b1s.append(b1)\n",
    "    errors.append(diff)\n",
    "    if (epoch+1)%5 == 0:\n",
    "        print(\"After epoch\",epoch+1,\": b0 =\",b0,\"b1 =\",b1,\" Error = \",diff[0])\n",
    "\n",
    "plt.figure(figsize = (10,3))\n",
    "plt.subplot(1,3,1)\n",
    "plt.plot(b0s,errors),plt.title(\"B0 vs Error\")\n",
    "plt.subplot(1,3,2)\n",
    "plt.plot(b1s,errors),plt.title(\"B1 vs Error\")\n",
    "\n",
    "plt.subplot(1,3,3)\n",
    "plt.plot(np.arange(50),accuracy)\n",
    "plt.title(\"Accuracy in different epochs\")\n",
    "print(\"Equation: y =\",b0,\"+\",b1,\"*x\")\n",
    "\n",
    "npy = b0 + b1*npx \n",
    "output = sigmoid(npy)\n",
    "func = lambda x: 0 if x<0.5 else 1\n",
    "prediction = list(map(func,output))\n",
    "print(prediction)"
   ]
  },
  {
   "cell_type": "code",
   "execution_count": 28,
   "id": "e419ecf8",
   "metadata": {},
   "outputs": [
    {
     "name": "stderr",
     "output_type": "stream",
     "text": [
      "/tmp/ipykernel_4181/3636613384.py:3: RuntimeWarning: divide by zero encountered in log\n",
      "  y = -np.log(x)\n",
      "/tmp/ipykernel_4181/3636613384.py:4: RuntimeWarning: divide by zero encountered in log\n",
      "  z = -np.log(1-x)\n"
     ]
    },
    {
     "data": {
      "image/png": "[encoded data removed]",
      "text/plain": [
       "<Figure size 360x720 with 1 Axes>"
      ]
     },
     "metadata": {
      "needs_background": "light"
     },
     "output_type": "display_data"
    },
    {
     "data": {
      "text/plain": [
       "(Text(0.5, 17.200000000000003, 'x'),\n",
       " <matplotlib.legend.Legend at 0x7f7b2be53430>,\n",
       " None,\n",
       " None)"
      ]
     },
     "execution_count": 28,
     "metadata": {},
     "output_type": "execute_result"
    }
   ],
   "source": [
    "#\n",
    "x = np.linspace(0,1,100)\n",
    "y = -np.log(x)\n",
    "z = -np.log(1-x)\n",
    "plt.figure(figsize = (5,10)),plt.subplot(3,1,3)\n",
    "#Plotting the values on graph:\n",
    "plt.plot(x,y,label=\"-log(X)\")\n",
    "plt.plot(x,z,label=\"-log(1-X)\")\n",
    "plt.xlabel(\"x\"),plt.legend(),plt.grid(),plt.show()"
   ]
  },
  {
   "cell_type": "code",
   "execution_count": 29,
   "id": "48c9e996",
   "metadata": {},
   "outputs": [
    {
     "name": "stdout",
     "output_type": "stream",
     "text": [
      "[[1.22553095]] [-5.72049426]\n"
     ]
    }
   ],
   "source": [
    "#Using scikit-learn model\n",
    "from sklearn.linear_model import LogisticRegression\n",
    "X = df.iloc[:,:-2]\n",
    "y = df.iloc[:,-1]\n",
    "clf = LogisticRegression(random_state=0).fit(X, y)\n",
    "print(clf.coef_,clf.intercept_)"
   ]
  },
  {
   "cell_type": "code",
   "execution_count": 30,
   "id": "4a2e9f42",
   "metadata": {},
   "outputs": [
    {
     "name": "stdout",
     "output_type": "stream",
     "text": [
      "After epoch 50 : b0 = -0.06779638193433425 b1 = 0.23187789021939417 b2 = -0.247055107795964  Error =  0.3054719084174652\n",
      "After epoch 100 : b0 = -0.13007145259797082 b1 = 0.33723823045623713 b2 = -0.43483548763494406  Error =  0.28679761671246096\n",
      "After epoch 150 : b0 = -0.17894877820164246 b1 = 0.4207982565786149 b2 = -0.5718779979436501  Error =  0.26402259731027355\n",
      "After epoch 200 : b0 = -0.21915934827912514 b1 = 0.48852192461750504 b2 = -0.6794773444045387  Error =  0.2442771774512441\n",
      "After epoch 250 : b0 = -0.25325644126653457 b1 = 0.5450367182871507 b2 = -0.7678416313304619  Error =  0.22780701128351277\n",
      "Equation: y = -0.25325644126653457 + 0.5450367182871507 *x1 -0.7678416313304619 *x2\n",
      "[0, 0, 0, 0, 0, 1, 1, 1, 1, 1]\n"
     ]
    },
    {
     "data": {
      "image/png": "[encoded data removed]",
      "text/plain": [
       "<Figure size 720x216 with 3 Axes>"
      ]
     },
     "metadata": {
      "needs_background": "light"
     },
     "output_type": "display_data"
    }
   ],
   "source": [
    "#3\n",
    "import pandas as pd\n",
    "import numpy as np\n",
    "import matplotlib.pyplot as plt\n",
    "\n",
    "# tab = pd.read_csv(\"lrsgd.csv\")\n",
    "x1 = df.iloc[:,:-2]\n",
    "x2 = df.iloc[:,-2:-1]\n",
    "y = df.iloc[:,-1]\n",
    "npx1 = np.array(x1)\n",
    "npx2 = np.array(x2)\n",
    "npy = np.array(y)\n",
    "\n",
    "b0,b1,b2 = 0,0,0\n",
    "learning_rate = 0.005\n",
    "\n",
    "def sigmoid(z):\n",
    "    sig = 1/(1+np.exp(-z))\n",
    "    return sig\n",
    "\n",
    "epochs = 250\n",
    "accuracy,b0s,b1s,b2s,errors = [],[],[],[],[]\n",
    "for epoch in range(0,epochs):\n",
    "    correct = 0\n",
    "    for i in range(len(x1)):\n",
    "        output = b0 + b1*npx1[i] + b2*npx2[i]\n",
    "        pred = sigmoid(output)\n",
    "        diff = npy[i] - pred\n",
    "        b0 = b0 + learning_rate * (diff) * pred * (1-pred)\n",
    "        b1 = b1 + learning_rate * (diff) * pred * (1-pred) * npx1[i]\n",
    "        b2 = b2 + learning_rate * (diff) * pred * (1-pred) * npx2[i]\n",
    "        b0,b1,b2 = b0[0],b1[0],b2[0]\n",
    "        if (pred<0.5 and npy[i] == 0) or (pred>=0.5 and npy[i] == 1):\n",
    "            correct += 1\n",
    "    accuracy.append(correct/len(npx1)) \n",
    "    b0s.append(b0)\n",
    "    b1s.append(b1)\n",
    "    b2s.append(b2)\n",
    "    errors.append(diff)\n",
    "    if (epoch+1)%50 == 0:\n",
    "        print(\"After epoch\",epoch+1,\": b0 =\",b0,\"b1 =\",b1,\"b2 =\",b2,\" Error = \",diff[0])\n",
    "\n",
    "plt.figure(figsize = (10,3))\n",
    "plt.subplot(1,3,1)\n",
    "plt.plot(b1s,errors),plt.title(\"B1 vs Error\")\n",
    "plt.subplot(1,3,2)\n",
    "plt.plot(b2s,errors),plt.title(\"B2 vs Error\")\n",
    "\n",
    "plt.subplot(1,3,3)\n",
    "plt.plot(np.arange(250),accuracy)\n",
    "plt.title(\"Accuracy vs Epoch\")\n",
    "print(\"Equation: y =\",b0,\"+\",b1,\"*x1\",b2,\"*x2\")\n",
    "npy = b0 + b1*npx1 + b2*npx2\n",
    "output = sigmoid(npy)\n",
    "func = lambda x: 0 if x<0.5 else 1\n",
    "prediction = list(map(func,output))\n",
    "print(prediction)"
   ]
  },
  {
   "cell_type": "code",
   "execution_count": null,
   "id": "c54ea65f",
   "metadata": {},
   "outputs": [],
   "source": []
  }
 ],
 "metadata": {
  "kernelspec": {
   "display_name": "Python 3 (ipykernel)",
   "language": "python",
   "name": "python3"
  },
  "language_info": {
   "codemirror_mode": {
    "name": "ipython",
    "version": 3
   },
   "file_extension": ".py",
   "mimetype": "text/x-python",
   "name": "python",
   "nbconvert_exporter": "python",
   "pygments_lexer": "ipython3",
   "version": "3.10.12"
  }
 },
 "nbformat": 4,
 "nbformat_minor": 5
}
